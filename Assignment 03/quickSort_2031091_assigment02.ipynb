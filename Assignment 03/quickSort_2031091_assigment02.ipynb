{
  "nbformat": 4,
  "nbformat_minor": 0,
  "metadata": {
    "colab": {
      "provenance": []
    },
    "kernelspec": {
      "name": "python3",
      "display_name": "Python 3"
    },
    "language_info": {
      "name": "python"
    }
  },
  "cells": [
    {
      "cell_type": "code",
      "execution_count": null,
      "metadata": {
        "id": "TJigBZO1U793"
      },
      "outputs": [],
      "source": [
        "def quicksort(array):\n",
        "    if len(array) < 2:\n",
        "        return array\n",
        "    else:\n",
        "        pivot = array[0]\n",
        "        less = [i for i in array[1:] if i <= pivot]\n",
        "        greater = [i for i in array[1:] if i > pivot]\n",
        "        return quicksort(less) + [pivot] + quicksort(greater)\n",
        "\n",
        "\n",
        "example_array = [10, 5, 2, 3]\n",
        "sorted_array = quicksort(example_array)\n",
        "sorted_array\n"
      ]
    }
  ]
}